{
 "cells": [
  {
   "cell_type": "code",
   "execution_count": null,
   "id": "1e5afca1-daba-4d27-a8ed-5075e057444b",
   "metadata": {},
   "outputs": [],
   "source": [
    "import pandas as pd"
   ]
  },
  {
   "cell_type": "code",
   "execution_count": 96,
   "id": "6a922424-61a1-4002-87a7-d9ff9083781d",
   "metadata": {
    "tags": []
   },
   "outputs": [
    {
     "data": {
      "text/html": [
       "<div>\n",
       "<style scoped>\n",
       "    .dataframe tbody tr th:only-of-type {\n",
       "        vertical-align: middle;\n",
       "    }\n",
       "\n",
       "    .dataframe tbody tr th {\n",
       "        vertical-align: top;\n",
       "    }\n",
       "\n",
       "    .dataframe thead th {\n",
       "        text-align: right;\n",
       "    }\n",
       "</style>\n",
       "<table border=\"1\" class=\"dataframe\">\n",
       "  <thead>\n",
       "    <tr style=\"text-align: right;\">\n",
       "      <th></th>\n",
       "      <th>지역</th>\n",
       "      <th>읍면동</th>\n",
       "      <th>전화번호</th>\n",
       "      <th>주소</th>\n",
       "      <th>일반현황</th>\n",
       "      <th>청사현황</th>\n",
       "      <th>자치센터현황</th>\n",
       "      <th>데이터기준일자</th>\n",
       "    </tr>\n",
       "  </thead>\n",
       "  <tbody>\n",
       "    <tr>\n",
       "      <th>0</th>\n",
       "      <td>제주시</td>\n",
       "      <td>일도1동</td>\n",
       "      <td>064-728-4412</td>\n",
       "      <td>제주특별자치도 제주시 중앙로7길 15 (일도일동)</td>\n",
       "      <td>인구 3146명 / 면적 0.33㎢ / 11통 61개반</td>\n",
       "      <td>지상 3층  / 연면적 585㎡</td>\n",
       "      <td>개소일 2000-12-20</td>\n",
       "      <td>2019-06-20</td>\n",
       "    </tr>\n",
       "  </tbody>\n",
       "</table>\n",
       "</div>"
      ],
      "text/plain": [
       "    지역   읍면동          전화번호                           주소  \\\n",
       "0  제주시  일도1동  064-728-4412  제주특별자치도 제주시 중앙로7길 15 (일도일동)   \n",
       "\n",
       "                             일반현황               청사현황          자치센터현황  \\\n",
       "0  인구 3146명 / 면적 0.33㎢ / 11통 61개반  지상 3층  / 연면적 585㎡  개소일 2000-12-20   \n",
       "\n",
       "      데이터기준일자  \n",
       "0  2019-06-20  "
      ]
     },
     "execution_count": 96,
     "metadata": {},
     "output_type": "execute_result"
    }
   ],
   "source": [
    "df = pd.read_csv('jeju.csv', encoding = 'cp949')\n",
    "df.head(1)"
   ]
  },
  {
   "cell_type": "code",
   "execution_count": null,
   "id": "dc62b0d3-9cfe-4d28-a4ca-66509b312ceb",
   "metadata": {
    "tags": []
   },
   "outputs": [],
   "source": [
    "# 1. 주소 정보를 이용해서 위도, 경도 값을 저장합니다. '위치' 컬럼에 (위도, 경도) 저장\n",
    "# 주소를 찾아서 저장하는 함수를 작성하여 처리\n",
    "# 함수 이름은 geo_coder(query) 리턴값 : (위도, 경도) 만일 못찾았다면 '결과없음'으로 리턴\n",
    "# 함수사용, apply()를 이용해 데이터 프레임에 적용\n",
    "\n",
    "query = '제주특별자치도 제주시 중앙로7길 15(일도일동)'\n",
    "\n",
    "def geo_coder(query):\n",
    "    import requests\n",
    "    REST_API_KEY = 'd44385bc69a339a727818cdd517beea9'\n",
    "    query = query.split('(')[0]\n",
    "    url = f\"https://dapi.kakao.com/v2/local/search/keyword.json?category_group_code=PO3&query={query}\"\n",
    "    headers = {'Authorization':f'KakaoAK {REST_API_KEY}'}\n",
    "    res = requests.get(url,headers=headers)\n",
    "    jsondata = res.json()\n",
    "    # print(query)    \n",
    "    # print(jsondata)\n",
    "    try:\n",
    "        return jsondata['documents'][0]['y'],jsondata['documents'][0]['x']\n",
    "    except:\n",
    "        return '결과없음'"
   ]
  },
  {
   "cell_type": "code",
   "execution_count": null,
   "id": "7c38f03e-b956-4fea-bdce-ef39161e2e59",
   "metadata": {
    "tags": []
   },
   "outputs": [],
   "source": [
    "df['위치'] = df['주소'].apply(geo_coder)\n",
    "df.head(10)"
   ]
  },
  {
   "cell_type": "code",
   "execution_count": null,
   "id": "5ab08cb8-9de9-4c64-8b56-a0b0c663bb3b",
   "metadata": {},
   "outputs": [],
   "source": [
    "# 2. '위치' 컬럼의 값을 Marker 위치값으로, tooltip으로 읍면동을 사용하여 지도에 표시(클러스터 이용)\n",
    "# 함수사용, apply()를 이용해 데이터 프레임에 적용\n",
    "\n",
    "import folium\n",
    "from folium.plugins import MarkerCluster\n",
    "\n",
    "def display(loc,map):\n",
    "    # print(loc[0],loc[1])\n",
    "    if loc[0] != '결과없음':\n",
    "        folium.Marker(loc[0], tooltip = loc[1]).add_to(map)\n",
    "    \n",
    "\n",
    "map = folium.Map((33.3616666,126.5291666), zoom_start = 8)\n",
    "map_c = MarkerCluster().add_to(map)\n",
    "df[['위치','읍면동']].apply(display, map = map_c, axis = 1)\n",
    "map"
   ]
  },
  {
   "cell_type": "code",
   "execution_count": null,
   "id": "b1a61017-b1d7-4cf3-8b68-8fdbd7d6b9c5",
   "metadata": {},
   "outputs": [],
   "source": [
    "# 2-1. iterrows 활용\n",
    "\n",
    "map = folium.Map((33.3616666,126.5291666), zoom_start = 8)\n",
    "for index, row in df.iterrows():\n",
    "    # print(index)\n",
    "    # print(row['읍면동'],row['위치'])\n",
    "    if row['위치'] != '결과없음':\n",
    "        folium.Marker(row['위치'], tooltip = ['읍면동']).add_to(map)\n",
    "map"
   ]
  },
  {
   "cell_type": "code",
   "execution_count": null,
   "id": "87bfa524-d40e-45f0-ac9e-bd54cb22b1e9",
   "metadata": {
    "tags": []
   },
   "outputs": [],
   "source": [
    "# 3. '일반현황' 컬럼의 인구수만 분리하여 '인구수'라는 int형 컬럼을 생성\n",
    "\n",
    "df['일반현황'].str.split('/').str.get(0).str.split('(').str.get(0).str.split().str.get(-1).str.replace('명','').astype(int)"
   ]
  },
  {
   "cell_type": "code",
   "execution_count": 101,
   "id": "83389e99-b153-4a08-80cb-a79fa15d12f0",
   "metadata": {
    "tags": []
   },
   "outputs": [
    {
     "data": {
      "text/html": [
       "<div>\n",
       "<style scoped>\n",
       "    .dataframe tbody tr th:only-of-type {\n",
       "        vertical-align: middle;\n",
       "    }\n",
       "\n",
       "    .dataframe tbody tr th {\n",
       "        vertical-align: top;\n",
       "    }\n",
       "\n",
       "    .dataframe thead th {\n",
       "        text-align: right;\n",
       "    }\n",
       "</style>\n",
       "<table border=\"1\" class=\"dataframe\">\n",
       "  <thead>\n",
       "    <tr style=\"text-align: right;\">\n",
       "      <th></th>\n",
       "      <th>지역</th>\n",
       "      <th>읍면동</th>\n",
       "      <th>전화번호</th>\n",
       "      <th>주소</th>\n",
       "      <th>일반현황</th>\n",
       "      <th>청사현황</th>\n",
       "      <th>자치센터현황</th>\n",
       "      <th>데이터기준일자</th>\n",
       "      <th>인구수</th>\n",
       "    </tr>\n",
       "  </thead>\n",
       "  <tbody>\n",
       "    <tr>\n",
       "      <th>0</th>\n",
       "      <td>제주시</td>\n",
       "      <td>일도1동</td>\n",
       "      <td>064-728-4412</td>\n",
       "      <td>제주특별자치도 제주시 중앙로7길 15 (일도일동)</td>\n",
       "      <td>인구 3146명 / 면적 0.33㎢ / 11통 61개반</td>\n",
       "      <td>지상 3층  / 연면적 585㎡</td>\n",
       "      <td>개소일 2000-12-20</td>\n",
       "      <td>2019-06-20</td>\n",
       "      <td>3146</td>\n",
       "    </tr>\n",
       "    <tr>\n",
       "      <th>1</th>\n",
       "      <td>제주시</td>\n",
       "      <td>일도2동</td>\n",
       "      <td>064-728-4442</td>\n",
       "      <td>제주특별자치도 제주시 고마로 28 (일도이동)</td>\n",
       "      <td>인구 38400명 / 면적2.18㎢ / 48통326반</td>\n",
       "      <td>지상 2층·지하 1층 / 연면적 1307.01</td>\n",
       "      <td>총면적 617.22㎡ / 개소일 2000-12-24</td>\n",
       "      <td>2019-06-20</td>\n",
       "      <td>38400</td>\n",
       "    </tr>\n",
       "  </tbody>\n",
       "</table>\n",
       "</div>"
      ],
      "text/plain": [
       "    지역   읍면동          전화번호                           주소  \\\n",
       "0  제주시  일도1동  064-728-4412  제주특별자치도 제주시 중앙로7길 15 (일도일동)   \n",
       "1  제주시  일도2동  064-728-4442    제주특별자치도 제주시 고마로 28 (일도이동)   \n",
       "\n",
       "                             일반현황                       청사현황  \\\n",
       "0  인구 3146명 / 면적 0.33㎢ / 11통 61개반          지상 3층  / 연면적 585㎡   \n",
       "1   인구 38400명 / 면적2.18㎢ / 48통326반  지상 2층·지하 1층 / 연면적 1307.01   \n",
       "\n",
       "                         자치센터현황     데이터기준일자    인구수  \n",
       "0                개소일 2000-12-20  2019-06-20   3146  \n",
       "1  총면적 617.22㎡ / 개소일 2000-12-24  2019-06-20  38400  "
      ]
     },
     "execution_count": 101,
     "metadata": {},
     "output_type": "execute_result"
    }
   ],
   "source": [
    "import re\n",
    "\n",
    "df['인구수'] = df['일반현황'].apply(lambda x:int(re.findall('[0-9]{4,}',x)[-1]))\n",
    "df.head(2)"
   ]
  },
  {
   "cell_type": "code",
   "execution_count": null,
   "id": "715f850d-26f3-40ba-ba50-5e87f44b373e",
   "metadata": {},
   "outputs": [],
   "source": []
  }
 ],
 "metadata": {
  "kernelspec": {
   "display_name": "Python 3 (ipykernel)",
   "language": "python",
   "name": "python3"
  },
  "language_info": {
   "codemirror_mode": {
    "name": "ipython",
    "version": 3
   },
   "file_extension": ".py",
   "mimetype": "text/x-python",
   "name": "python",
   "nbconvert_exporter": "python",
   "pygments_lexer": "ipython3",
   "version": "3.9.13"
  }
 },
 "nbformat": 4,
 "nbformat_minor": 5
}
