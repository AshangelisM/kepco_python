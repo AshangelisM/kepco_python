{
 "cells": [
  {
   "cell_type": "code",
   "execution_count": null,
   "id": "8e266e0f-63ce-409e-ab51-996f647c2c84",
   "metadata": {
    "tags": []
   },
   "outputs": [],
   "source": [
    "# !pip list"
   ]
  },
  {
   "cell_type": "code",
   "execution_count": null,
   "id": "d4afa192-ef35-41c6-a6be-fbd2ef4d4959",
   "metadata": {
    "tags": []
   },
   "outputs": [],
   "source": [
    "# !pip install folium"
   ]
  },
  {
   "cell_type": "code",
   "execution_count": null,
   "id": "b31d8965-33b5-4148-bf17-683e25a2be28",
   "metadata": {
    "tags": []
   },
   "outputs": [],
   "source": [
    "!pip show folium"
   ]
  },
  {
   "cell_type": "code",
   "execution_count": null,
   "id": "3a82dfd6-82e6-4802-9952-19456c77413e",
   "metadata": {},
   "outputs": [],
   "source": [
    "import folium"
   ]
  },
  {
   "cell_type": "code",
   "execution_count": null,
   "id": "e285fea4-4623-4ba2-86da-8a7541f2c30b",
   "metadata": {
    "tags": []
   },
   "outputs": [],
   "source": [
    "m = folium.Map(location=[35.1582761,126.7954074],zoom_start=15)"
   ]
  },
  {
   "cell_type": "code",
   "execution_count": null,
   "id": "11834134-1d99-473d-9a67-2232035e31c8",
   "metadata": {
    "tags": []
   },
   "outputs": [],
   "source": [
    "m"
   ]
  },
  {
   "cell_type": "code",
   "execution_count": null,
   "id": "8c35c7bc-85dc-4319-a2a1-06d2572d63c7",
   "metadata": {},
   "outputs": [],
   "source": [
    "m.save('map.html')"
   ]
  },
  {
   "cell_type": "code",
   "execution_count": null,
   "id": "287d3853-2f6d-483f-a1e4-ee6064edd59a",
   "metadata": {
    "tags": []
   },
   "outputs": [],
   "source": [
    "m = folium.Map(location=[35.1582761,126.7954074],zoom_start=15)\n",
    "icon = folium.Icon('darkgreen',icon='cloud') #home,star,flag,bookmark,cloud,info-sign\n",
    "folium.Marker(location=[35.1582761,126.7954074],\n",
    "              draggable=False,\n",
    "              popup='<b>popup!!</b><br>test',\n",
    "              tooltip='<b>tooltip!!</b><br>툴팁사용',\n",
    "              icon=icon).add_to(m)\n",
    "m"
   ]
  },
  {
   "cell_type": "code",
   "execution_count": null,
   "id": "7c956c47-4969-4e1e-aba7-5e7557e73caf",
   "metadata": {
    "tags": []
   },
   "outputs": [],
   "source": [
    "m = folium.Map(location=[35.1582761,126.7954074],zoom_start=15)\n",
    "folium.Circle(location=[35.1582761,126.7954074],\n",
    "              radius=100,\n",
    "              color='red',\n",
    "              fill=True,\n",
    "              fill_color='#00486F').add_to(m)\n",
    "# folium.CircleMarker(location=[35.1582761,126.7954074]).add_to(m)\n",
    "m"
   ]
  },
  {
   "cell_type": "code",
   "execution_count": null,
   "id": "d459e030-7abb-42a7-a785-af2d025a527d",
   "metadata": {},
   "outputs": [],
   "source": [
    "lotto = [\n",
    "    {\"store\":\"담배\",\"loc\":[37.62585944357624,127.01847823823798]},   \n",
    "    {\"store\":\"화곡본마트\",\"loc\":[37.54248103738589,126.84414659211494]},   \n",
    "    {\"store\":\"용꿈돼지꿈\",\"loc\":[37.5447438346992,126.95223862043447]},   \n",
    "    {\"store\":\"일이오마켓\",\"loc\":[37.47943673430032,126.98346178441342]},   \n",
    "    {\"store\":\"여명슈퍼마켓\",\"loc\":[37.61432815661055,127.0415039221072]},   \n",
    "    {\"store\":\"5가로또레드탑\",\"loc\":[37.570756251987575,127.00235901546226]},   \n",
    "    {\"store\":\"복권세상\",\"loc\":[35.91885025656432,128.55034430109828]},   \n",
    "    {\"store\":\"복권전문점\",\"loc\":[37.50384327747725,126.71513104367074]},   \n",
    "    {\"store\":\"인현동지하가판\",\"loc\":[37.47627910055104,126.63147671205866]},   \n",
    "    {\"store\":\"CU(광주서동점)\",\"loc\":[35.14814807640179,126.90555219336346]},   \n",
    "    {\"store\":\"지산로또방\",\"loc\":[35.148338888178,126.93203920504686]},   \n",
    "    {\"store\":\"천사로또방\",\"loc\":[37.63618838692431,127.21107884503209]},   \n",
    "    {\"store\":\"오렌지통신\",\"loc\":[37.42889361993242,127.10232604117991]},   \n",
    "    {\"store\":\"여수복권방\",\"loc\":[37.418353650942116,127.12640523182601]},   \n",
    "    {\"store\":\"둘리복권방\",\"loc\":[37.34532813934063,126.73627994929885]},   \n",
    "    {\"store\":\"금성24시편의점\",\"loc\":[37.84401249737699,127.06236893072152]},   \n",
    "    {\"store\":\"GS25(청주주은점)\",\"loc\":[36.60987111587086,127.49134026856717]},   \n",
    "    {\"store\":\"장미슈퍼\",\"loc\":[36.276304155315685,126.90940713047799]},   \n",
    "    {\"store\":\"장미슈퍼\",\"loc\":[36.276304155315685,126.90940713047799]},   \n",
    "    {\"store\":\"아이24(수송점)\",\"loc\":[35.970108052787594,126.7189421934312]},   \n",
    "    {\"store\":\"탑로또\",\"loc\":[34.87844231008963,128.62803523643754]} \n",
    "]"
   ]
  },
  {
   "cell_type": "code",
   "execution_count": null,
   "id": "7ff113e4-d613-4b64-ae61-d200ca70ed41",
   "metadata": {
    "tags": []
   },
   "outputs": [],
   "source": [
    "m = folium.Map(location=[36.6718564,127.9961186],zoom_start=7)\n",
    "for item in lotto:\n",
    "    folium.Marker(location=item['loc'],popup=item['store'],icon=folium.Icon(icon='ok')).add_to(m)\n",
    "m   "
   ]
  },
  {
   "cell_type": "code",
   "execution_count": null,
   "id": "2d4a80dc-65c6-4443-9f08-de51950599f9",
   "metadata": {
    "tags": []
   },
   "outputs": [],
   "source": [
    "from folium.plugins import MarkerCluster\n",
    "\n",
    "m = folium.Map(location=[36.6718564,127.9961186],zoom_start=7)\n",
    "m_c = MarkerCluster().add_to(m)\n",
    "for item in lotto:\n",
    "    folium.Marker(location=item['loc'],popup=item['store'],icon=folium.Icon(icon='ok')).add_to(m_c)\n",
    "m   "
   ]
  },
  {
   "cell_type": "code",
   "execution_count": null,
   "id": "d5170e27-649f-4a94-a60a-c696488473b2",
   "metadata": {},
   "outputs": [],
   "source": [
    "import json "
   ]
  },
  {
   "cell_type": "code",
   "execution_count": null,
   "id": "220ff45d-2fec-4639-9c5a-f706564340c0",
   "metadata": {
    "tags": []
   },
   "outputs": [],
   "source": [
    "m = folium.Map(location=[36.6718564,127.9961186],zoom_start=5)\n",
    "jsonfile = open('map.geojson','r').read()\n",
    "jsondata = json.loads(jsonfile)\n",
    "# jsondata\n",
    "folium.GeoJson(jsondata).add_to(m)\n",
    "m"
   ]
  },
  {
   "cell_type": "code",
   "execution_count": null,
   "id": "ff482158-6f59-4f11-85c1-0034957c7dbc",
   "metadata": {},
   "outputs": [],
   "source": [
    "m = folium.Map(location=[36.6718564,127.9961186],zoom_start=5)\n",
    "jsonfile = open('HangJeongDong_ver20230101.geojson','r',encoding='utf8').read()\n",
    "jsondata = json.loads(jsonfile)\n",
    "# jsondata\n",
    "folium.GeoJson(jsondata).add_to(m)\n",
    "m"
   ]
  },
  {
   "cell_type": "code",
   "execution_count": null,
   "id": "4c55c316-70a5-4058-a39a-614f9aed7b47",
   "metadata": {},
   "outputs": [],
   "source": []
  }
 ],
 "metadata": {
  "kernelspec": {
   "display_name": "Python 3 (ipykernel)",
   "language": "python",
   "name": "python3"
  },
  "language_info": {
   "codemirror_mode": {
    "name": "ipython",
    "version": 3
   },
   "file_extension": ".py",
   "mimetype": "text/x-python",
   "name": "python",
   "nbconvert_exporter": "python",
   "pygments_lexer": "ipython3",
   "version": "3.9.13"
  }
 },
 "nbformat": 4,
 "nbformat_minor": 5
}
