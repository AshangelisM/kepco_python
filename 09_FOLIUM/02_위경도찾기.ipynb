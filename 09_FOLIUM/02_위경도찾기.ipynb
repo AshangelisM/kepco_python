{
 "cells": [
  {
   "cell_type": "code",
   "execution_count": null,
   "id": "f6822c30-c01f-44b0-910d-49cb6069dba1",
   "metadata": {},
   "outputs": [],
   "source": [
    "REST_API_KEY = 'd44385bc69a339a727818cdd517beea9'"
   ]
  },
  {
   "cell_type": "raw",
   "id": "1958c463-7dc4-4b61-abbf-c1fe3d2902bc",
   "metadata": {},
   "source": [
    "curl -v -X GET \"https://dapi.kakao.com/v2/local/search/address.json\" \\\n",
    "  -H \"Authorization: KakaoAK ${REST_API_KEY}\" \\\n",
    "  --data-urlencode \"query=전북 삼성동 100\" "
   ]
  },
  {
   "cell_type": "code",
   "execution_count": null,
   "id": "f97cbb3c-e704-4db4-acf2-f55340438b03",
   "metadata": {},
   "outputs": [],
   "source": [
    "import requests"
   ]
  },
  {
   "cell_type": "code",
   "execution_count": null,
   "id": "fd1579bc-3a1c-46d1-9da1-7a2e0033e7cd",
   "metadata": {},
   "outputs": [],
   "source": [
    "url = \"https://dapi.kakao.com/v2/local/search/address.json?query={}\".format('전북 삼성동 100')\n",
    "headers = {'Authorization':f'KakaoAK {REST_API_KEY}'}\n",
    "res = requests.get(url,headers=headers)\n",
    "jsondata = res.json()"
   ]
  },
  {
   "cell_type": "code",
   "execution_count": null,
   "id": "863ec500-73b3-4030-a4f4-36be124f3612",
   "metadata": {},
   "outputs": [],
   "source": [
    "jsondata['documents'][0]['address']['y'],jsondata['documents'][0]['address']['x']"
   ]
  },
  {
   "cell_type": "raw",
   "id": "76ed2013-675c-44b2-bb0f-7f1668e2e9b3",
   "metadata": {},
   "source": [
    "curl -v -X GET \"https://dapi.kakao.com/v2/local/search/keyword.json?y=37.514322572335935&x=127.06283102249932&radius=20000\" \\\n",
    "  -H \"Authorization: KakaoAK ${REST_API_KEY}\" \\\n",
    "  --data-urlencode \"query=카카오프렌즈\" "
   ]
  },
  {
   "cell_type": "code",
   "execution_count": null,
   "id": "4aa0fdbf-a441-407d-8fce-21bd55d05a32",
   "metadata": {},
   "outputs": [],
   "source": [
    "query = '카카오프렌즈'\n",
    "x = 127.06283102249932\n",
    "y = 37.514322572335935\n",
    "radius = 20000\n",
    "url = f\"https://dapi.kakao.com/v2/local/search/keyword.json?y={y}&x={x}&radius={radius}&query={query}\"\n",
    "headers = {'Authorization':f'KakaoAK {REST_API_KEY}'}\n",
    "res = requests.get(url,headers=headers)\n",
    "jsondata = res.json()"
   ]
  },
  {
   "cell_type": "code",
   "execution_count": null,
   "id": "8fb05cc1-5e32-4a11-bdfd-4f36dbce6032",
   "metadata": {},
   "outputs": [],
   "source": [
    "query = '광주광역시 북구 용봉동'\n",
    "url = f\"https://dapi.kakao.com/v2/local/search/keyword.json?category_group_code=PO3&query={query}\"\n",
    "headers = {'Authorization':f'KakaoAK {REST_API_KEY}'}\n",
    "res = requests.get(url,headers=headers)\n",
    "jsondata = res.json()"
   ]
  },
  {
   "cell_type": "code",
   "execution_count": null,
   "id": "4950df9f-c21f-4b56-9547-d3fdd65b6ce3",
   "metadata": {},
   "outputs": [],
   "source": [
    "jsondata"
   ]
  },
  {
   "cell_type": "code",
   "execution_count": null,
   "id": "68267fd6-7dc9-4ba8-8961-9ed107224849",
   "metadata": {
    "tags": []
   },
   "outputs": [],
   "source": [
    "# !pip install geopy"
   ]
  },
  {
   "cell_type": "code",
   "execution_count": null,
   "id": "7cc01c53-c28a-4638-add3-65248fb8aba9",
   "metadata": {},
   "outputs": [],
   "source": [
    "import geopy"
   ]
  },
  {
   "cell_type": "code",
   "execution_count": null,
   "id": "2d156fa2-85b6-4345-a4f2-509be100d332",
   "metadata": {},
   "outputs": [],
   "source": [
    "service = geopy.Nominatim(user_agent = 'myGeocoder')"
   ]
  },
  {
   "cell_type": "code",
   "execution_count": null,
   "id": "c9453dc9-5d27-4647-99ee-92d61e972ab3",
   "metadata": {},
   "outputs": [],
   "source": [
    "result = service.geocode('광주광역시 광산구 소촌로152번길 37')"
   ]
  },
  {
   "cell_type": "code",
   "execution_count": null,
   "id": "6a8ead94-85a8-45a2-8f12-ae652ec02868",
   "metadata": {},
   "outputs": [],
   "source": [
    "result"
   ]
  },
  {
   "cell_type": "code",
   "execution_count": null,
   "id": "36b00bce-27f5-485f-b7a2-0db923989749",
   "metadata": {},
   "outputs": [],
   "source": [
    "result.longitude"
   ]
  },
  {
   "cell_type": "code",
   "execution_count": null,
   "id": "ea6c0aaf-9bbf-4aab-9e77-26121674b78a",
   "metadata": {},
   "outputs": [],
   "source": [
    "result.latitude"
   ]
  },
  {
   "cell_type": "code",
   "execution_count": null,
   "id": "fa3b7b15-ff6b-48c3-b428-2aa55316e663",
   "metadata": {},
   "outputs": [],
   "source": []
  }
 ],
 "metadata": {
  "kernelspec": {
   "display_name": "Python 3 (ipykernel)",
   "language": "python",
   "name": "python3"
  },
  "language_info": {
   "codemirror_mode": {
    "name": "ipython",
    "version": 3
   },
   "file_extension": ".py",
   "mimetype": "text/x-python",
   "name": "python",
   "nbconvert_exporter": "python",
   "pygments_lexer": "ipython3",
   "version": "3.9.13"
  }
 },
 "nbformat": 4,
 "nbformat_minor": 5
}
