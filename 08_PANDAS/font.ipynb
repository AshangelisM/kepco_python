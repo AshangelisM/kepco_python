{
 "cells": [
  {
   "cell_type": "code",
   "execution_count": null,
   "id": "e17ae7ff-7105-43a3-bd14-7fe9e20cb383",
   "metadata": {},
   "outputs": [],
   "source": [
    "import numpy as np\n",
    "import matplotlib.pyplot as plt\n",
    "import warnings\n",
    "warnings.filterwarnings('ignore')"
   ]
  },
  {
   "cell_type": "code",
   "execution_count": null,
   "id": "18f7c624-f1ba-49f0-bdf6-c101acc9825f",
   "metadata": {},
   "outputs": [],
   "source": [
    "data = np.random.randint(-100,100,50).cumsum()\n",
    "data"
   ]
  },
  {
   "cell_type": "code",
   "execution_count": null,
   "id": "1dcfe175-b5c6-4883-9aca-1d2235dbddb1",
   "metadata": {
    "tags": []
   },
   "outputs": [],
   "source": [
    "# 1. 폰트 파일로 FontProperties() 생성 후 사용\n",
    "\n",
    "import matplotlib.font_manager as fm\n",
    "path = 'data/NanumSquareNeo-bRg.ttf'\n",
    "fontprop = fm.FontProperties(fname=path,size=15)\n",
    "\n",
    "plt.plot(range(50),data, 'r')\n",
    "plt.title('시간별 가격 추이',fontproperties=fontprop)\n",
    "plt.ylabel('주식 가격',fontproperties=fontprop)\n",
    "plt.xlabel('시간(분)',fontproperties=fontprop)"
   ]
  },
  {
   "cell_type": "code",
   "execution_count": null,
   "id": "a9173198-1eca-4546-a1e0-8b0a655f7a38",
   "metadata": {},
   "outputs": [],
   "source": [
    "#2. matplotlib.rcParams[]로 설정\n",
    "\n",
    "import matplotlib\n",
    "\n",
    "print('설정 파일 위치 : ', matplotlib.matplotlib_fname())\n",
    "print('기본 설정 폰트 : ', plt.rcParams['font.family'])\n",
    "print('기본 설정 사이즈 : ', plt.rcParams['font.size'])"
   ]
  },
  {
   "cell_type": "code",
   "execution_count": null,
   "id": "c8559e6e-6cf0-42fd-8973-53aee00ff94d",
   "metadata": {
    "tags": []
   },
   "outputs": [],
   "source": [
    "plt.rcParams['font.family'] = 'Malgun Gothic'\n",
    "plt.rcParams['font.size'] = 13\n",
    "plt.rcParams['axes.unicode_minus'] = False\n",
    "\n",
    "plt.plot(range(50),data, 'r')\n",
    "plt.title('시간별 가격 추이')\n",
    "plt.ylabel('주식 가격')\n",
    "plt.xlabel('시간(분)')"
   ]
  },
  {
   "cell_type": "code",
   "execution_count": null,
   "id": "a7c9dc5a-a01e-4bce-a9d9-0bc710338cde",
   "metadata": {
    "tags": []
   },
   "outputs": [],
   "source": [
    "fm.findSystemFonts()"
   ]
  },
  {
   "cell_type": "code",
   "execution_count": null,
   "id": "2a85f99d-1a1d-4255-97d2-759103603fcb",
   "metadata": {
    "tags": []
   },
   "outputs": [],
   "source": [
    "[(f.name,f.fname) for f in fm.fontManager.ttflist if 'Nanum' in f.name]"
   ]
  },
  {
   "cell_type": "code",
   "execution_count": null,
   "id": "57fa7f47-dee2-4c8f-8bb3-a4578b5aba48",
   "metadata": {},
   "outputs": [],
   "source": [
    "plt.rcParams['font.family'] = 'NanumSquare Neo Bold'\n",
    "plt.rcParams['font.size'] = 13\n",
    "plt.rcParams['axes.unicode_minus'] = False\n",
    "\n",
    "plt.plot(range(50),data, 'r')\n",
    "plt.title('시간별 가격 추이')\n",
    "plt.ylabel('주식 가격')\n",
    "plt.xlabel('시간(분)')"
   ]
  },
  {
   "cell_type": "code",
   "execution_count": null,
   "id": "8b2f7607-64be-4b3d-a646-b9883b7daa69",
   "metadata": {},
   "outputs": [],
   "source": [
    "# 3. 설정파일 수정\n",
    "\n",
    "import matplotlib\n",
    "import matplotlib.pyplot as plt\n",
    "\n",
    "print('설정 파일 위치 : ', matplotlib.matplotlib_fname())\n",
    "print('기본 설정 폰트 : ', plt.rcParams['font.family'])\n",
    "print('기본 설정 사이즈 : ', plt.rcParams['font.size'])"
   ]
  },
  {
   "cell_type": "code",
   "execution_count": null,
   "id": "63658ffe-d74d-40de-876b-954841b0afc3",
   "metadata": {},
   "outputs": [],
   "source": [
    "plt.plot(range(50),data, 'r')\n",
    "plt.title('시간별 가격 추이')\n",
    "plt.ylabel('주식 가격')\n",
    "plt.xlabel('시간(분)')\n",
    "plt.rcParams['axes.unicode_minus'] = False"
   ]
  }
 ],
 "metadata": {
  "kernelspec": {
   "display_name": "Python 3 (ipykernel)",
   "language": "python",
   "name": "python3"
  },
  "language_info": {
   "codemirror_mode": {
    "name": "ipython",
    "version": 3
   },
   "file_extension": ".py",
   "mimetype": "text/x-python",
   "name": "python",
   "nbconvert_exporter": "python",
   "pygments_lexer": "ipython3",
   "version": "3.9.13"
  }
 },
 "nbformat": 4,
 "nbformat_minor": 5
}
