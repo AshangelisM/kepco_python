{
 "cells": [
  {
   "cell_type": "code",
   "execution_count": null,
   "id": "0c0326c0-ed80-462d-a36e-0b936a60bda1",
   "metadata": {},
   "outputs": [],
   "source": [
    "import pandas as pd\n",
    "import numpy as np\n",
    "import warnings\n",
    "warnings.filterwarnings('ignore')"
   ]
  },
  {
   "cell_type": "code",
   "execution_count": null,
   "id": "af8b90ef-0461-462a-b76a-e313ce9c2229",
   "metadata": {},
   "outputs": [],
   "source": [
    "%pwd"
   ]
  },
  {
   "cell_type": "code",
   "execution_count": null,
   "id": "333a46cd-7423-4fe9-9b51-705afc44224d",
   "metadata": {
    "tags": []
   },
   "outputs": [],
   "source": [
    "first_df = pd.read_csv('data/전국_평균_분양가격(2013년_9월부터_2015년_8월까지).csv',\n",
    "            encoding='cp949')"
   ]
  },
  {
   "cell_type": "code",
   "execution_count": null,
   "id": "3c70d322-2390-4dd9-a179-3b4d75123011",
   "metadata": {
    "tags": []
   },
   "outputs": [],
   "source": [
    "first_df.info()"
   ]
  },
  {
   "cell_type": "code",
   "execution_count": null,
   "id": "17e7f739-195c-4574-9b2a-723b6c3f8ba6",
   "metadata": {},
   "outputs": [],
   "source": [
    "last_df = pd.read_csv('data/주택도시보증공사_전국_평균_분양가격(2019년_12월).csv',encoding='cp949')"
   ]
  },
  {
   "cell_type": "code",
   "execution_count": null,
   "id": "9e2d470a-4d47-4877-9c90-8af87ea11e31",
   "metadata": {
    "tags": []
   },
   "outputs": [],
   "source": [
    "last_df.info()"
   ]
  },
  {
   "cell_type": "code",
   "execution_count": null,
   "id": "c895bbcc-1f15-45cb-ad60-2c0e4add87c0",
   "metadata": {
    "tags": []
   },
   "outputs": [],
   "source": [
    "last_df.head(2)"
   ]
  },
  {
   "cell_type": "code",
   "execution_count": null,
   "id": "6d688f96-a72c-4c9e-8eed-10c411500758",
   "metadata": {
    "tags": []
   },
   "outputs": [],
   "source": [
    "last_df.tail(2)"
   ]
  },
  {
   "cell_type": "code",
   "execution_count": null,
   "id": "8c9f68ed-42c1-4404-8f98-d429aa3eb372",
   "metadata": {
    "tags": []
   },
   "outputs": [],
   "source": [
    "last_df.isnull().sum()"
   ]
  },
  {
   "cell_type": "code",
   "execution_count": null,
   "id": "1be6d5e1-8c70-4638-9d71-d03397712190",
   "metadata": {},
   "outputs": [],
   "source": [
    "True == 1"
   ]
  },
  {
   "cell_type": "code",
   "execution_count": null,
   "id": "5e09c6ff-c522-4172-8c98-927c8fc76348",
   "metadata": {},
   "outputs": [],
   "source": [
    "False == 0 "
   ]
  },
  {
   "cell_type": "code",
   "execution_count": null,
   "id": "15b2f654-7c46-47f5-b74c-38ed85815f7a",
   "metadata": {},
   "outputs": [],
   "source": [
    "True + True + False"
   ]
  },
  {
   "cell_type": "code",
   "execution_count": null,
   "id": "9806f1ed-c742-4550-91e3-0643de79221b",
   "metadata": {
    "tags": []
   },
   "outputs": [],
   "source": [
    "first_df.isnull().sum()"
   ]
  },
  {
   "cell_type": "code",
   "execution_count": null,
   "id": "b82ab32b-e2b0-4d44-8dec-b0293e7fb514",
   "metadata": {
    "tags": []
   },
   "outputs": [],
   "source": [
    "last_df.info()"
   ]
  },
  {
   "cell_type": "code",
   "execution_count": null,
   "id": "67f18ffa-9318-4874-a2d7-5996005426b9",
   "metadata": {
    "tags": []
   },
   "outputs": [],
   "source": [
    "# last_df['분양가격(㎡)'].sum()"
   ]
  },
  {
   "cell_type": "code",
   "execution_count": null,
   "id": "1509bcc1-583b-4465-93ef-3407563a14ee",
   "metadata": {
    "tags": []
   },
   "outputs": [],
   "source": [
    "# last_df['분양가격(㎡)'].astype(float)"
   ]
  },
  {
   "cell_type": "code",
   "execution_count": null,
   "id": "6f3b455d-f744-4d69-b901-8fd9f70f2972",
   "metadata": {},
   "outputs": [],
   "source": [
    "pd.to_numeric(last_df['분양가격(㎡)'],errors='coerce')"
   ]
  },
  {
   "cell_type": "code",
   "execution_count": null,
   "id": "21ca1709-84fa-49a0-87b7-5606a8937fc8",
   "metadata": {},
   "outputs": [],
   "source": [
    "last_df['분양가격'] = pd.to_numeric(last_df['분양가격(㎡)'],errors='coerce')"
   ]
  },
  {
   "cell_type": "code",
   "execution_count": null,
   "id": "cdf2a6ef-8dad-4cd5-ae35-6188b99dd9de",
   "metadata": {
    "tags": []
   },
   "outputs": [],
   "source": [
    "last_df.isnull().sum()"
   ]
  },
  {
   "cell_type": "code",
   "execution_count": null,
   "id": "8d690639-eb80-44fd-a3be-7515fd088b6e",
   "metadata": {
    "tags": []
   },
   "outputs": [],
   "source": [
    "last_df.info()"
   ]
  },
  {
   "cell_type": "code",
   "execution_count": null,
   "id": "50870cba-dafd-4d68-a214-0392d9a8eb2d",
   "metadata": {},
   "outputs": [],
   "source": [
    "type(np.NaN)"
   ]
  },
  {
   "cell_type": "code",
   "execution_count": null,
   "id": "b6af4108-2bac-4231-9b97-e117ae345200",
   "metadata": {},
   "outputs": [],
   "source": [
    "last_df['분양가격'].sum()"
   ]
  },
  {
   "cell_type": "code",
   "execution_count": null,
   "id": "81a31c8c-f13d-4655-93de-1dc08b08ec29",
   "metadata": {},
   "outputs": [],
   "source": [
    "last_df['분양가격'].mean()"
   ]
  },
  {
   "cell_type": "code",
   "execution_count": null,
   "id": "d7daebdf-84d9-469e-b276-498a1dba3c22",
   "metadata": {},
   "outputs": [],
   "source": [
    "# 2013 ~2015 데이터 평당 분양가격, 2015~2019 ㎡당 분양가격임."
   ]
  },
  {
   "cell_type": "code",
   "execution_count": null,
   "id": "b47b9eb3-56cb-4375-9456-8854426aaa59",
   "metadata": {},
   "outputs": [],
   "source": [
    "last_df['평당분양가격'] = last_df['분양가격'] * 3.3"
   ]
  },
  {
   "cell_type": "code",
   "execution_count": null,
   "id": "c78e0769-a887-4070-93f7-e05320239fbb",
   "metadata": {
    "tags": []
   },
   "outputs": [],
   "source": [
    "last_df.info()"
   ]
  },
  {
   "cell_type": "code",
   "execution_count": null,
   "id": "79588727-5cf7-479c-9fda-edc89fa5a936",
   "metadata": {
    "tags": []
   },
   "outputs": [],
   "source": [
    "last_df['분양가격(㎡)'].describe()"
   ]
  },
  {
   "cell_type": "code",
   "execution_count": null,
   "id": "fa72c049-a427-4c53-9f7b-f7b752ad2a5e",
   "metadata": {
    "tags": []
   },
   "outputs": [],
   "source": [
    "last_df['분양가격'].describe()"
   ]
  },
  {
   "cell_type": "code",
   "execution_count": null,
   "id": "cb93e604-f6b0-4d0d-b0b3-3a58d2421caf",
   "metadata": {},
   "outputs": [],
   "source": [
    "last_df['분양가격(㎡)'].nunique()"
   ]
  },
  {
   "cell_type": "code",
   "execution_count": null,
   "id": "9f73559c-8755-4b10-9c4e-250bef236ceb",
   "metadata": {},
   "outputs": [],
   "source": [
    "# 규모구분 \n",
    "last_df['규모구분'].nunique()"
   ]
  },
  {
   "cell_type": "code",
   "execution_count": null,
   "id": "d59f2214-d00b-4592-9628-2ab931a6b567",
   "metadata": {},
   "outputs": [],
   "source": [
    "last_df['규모구분'].unique()"
   ]
  },
  {
   "cell_type": "code",
   "execution_count": null,
   "id": "c8ce5596-da53-4c46-b3b6-5fb87460c6d7",
   "metadata": {
    "tags": []
   },
   "outputs": [],
   "source": [
    "last_df['규모구분'].replace('전용면적','')"
   ]
  },
  {
   "cell_type": "code",
   "execution_count": null,
   "id": "edc3c869-4774-4248-84be-7ea2acc15af1",
   "metadata": {
    "tags": []
   },
   "outputs": [],
   "source": [
    "last_df['전용면적'] = last_df['규모구분'].str.replace('전용면적','')\n",
    "last_df['전용면적'] = last_df['전용면적'].str.replace('초과','~')\n",
    "last_df['전용면적'] = last_df['전용면적'].str.replace('이하','')\n",
    "last_df['전용면적'] = last_df['전용면적'].str.replace(' ','').str.strip()\n",
    "last_df['전용면적']"
   ]
  },
  {
   "cell_type": "code",
   "execution_count": null,
   "id": "67ea96c8-e9fe-426b-8554-99149c76f2d4",
   "metadata": {},
   "outputs": [],
   "source": [
    "# 필요없는 컬럼 제거('규모구분','분양가격(㎡)')"
   ]
  },
  {
   "cell_type": "code",
   "execution_count": null,
   "id": "b723d03c-3e0a-4cf2-8451-4489421df1ba",
   "metadata": {},
   "outputs": [],
   "source": [
    "last_df.columns"
   ]
  },
  {
   "cell_type": "code",
   "execution_count": null,
   "id": "2c6b6ab6-ead1-4cfc-b4ef-7223c4fd7dbb",
   "metadata": {
    "tags": []
   },
   "outputs": [],
   "source": [
    "last_df.info() #memory usage: 271.1+ KB"
   ]
  },
  {
   "cell_type": "code",
   "execution_count": null,
   "id": "ed1c2d3d-c9ae-45ce-87c5-8939a9ab91a9",
   "metadata": {},
   "outputs": [],
   "source": [
    "last_df.drop(columns=['규모구분','분양가격(㎡)'],inplace=True)"
   ]
  },
  {
   "cell_type": "code",
   "execution_count": null,
   "id": "56dc3412-b05e-4f1a-b5c7-f605e2cbc4a5",
   "metadata": {
    "tags": []
   },
   "outputs": [],
   "source": [
    "last_df.info() #memory usage: 203.3+ KB"
   ]
  },
  {
   "cell_type": "code",
   "execution_count": null,
   "id": "3b10c5e5-8811-4165-b8b3-002ddb39872c",
   "metadata": {},
   "outputs": [],
   "source": [
    "# groupby() 데이터 집계"
   ]
  },
  {
   "cell_type": "code",
   "execution_count": null,
   "id": "8ae99136-9a57-4838-b4d4-df5fb7bc281a",
   "metadata": {
    "tags": []
   },
   "outputs": [],
   "source": [
    "last_df.groupby?"
   ]
  },
  {
   "cell_type": "code",
   "execution_count": null,
   "id": "d2b3d2fd-0098-41b7-aeff-99e7c9abba7d",
   "metadata": {},
   "outputs": [],
   "source": [
    "last_df.head(2)"
   ]
  },
  {
   "cell_type": "code",
   "execution_count": null,
   "id": "a1ab73e4-958c-4fa0-a820-4629c837013c",
   "metadata": {
    "tags": []
   },
   "outputs": [],
   "source": [
    "last_df.groupby(['지역명'])['평당분양가격'].mean()"
   ]
  },
  {
   "cell_type": "code",
   "execution_count": null,
   "id": "a903cc88-cabd-4fcd-8646-4d8fd05b0d24",
   "metadata": {
    "tags": []
   },
   "outputs": [],
   "source": [
    "last_df[last_df['전용면적']=='전체'].groupby(['지역명'])['평당분양가격'].mean()"
   ]
  },
  {
   "cell_type": "code",
   "execution_count": null,
   "id": "106009d8-9e92-456b-8c36-6f1291e9fa5d",
   "metadata": {},
   "outputs": [],
   "source": [
    "# 전용면적별 평당분양가격\n",
    "last_df.groupby(['전용면적'])['평당분양가격'].mean()"
   ]
  },
  {
   "cell_type": "code",
   "execution_count": null,
   "id": "54c3d200-9577-40d9-a170-9368d7bf2c2d",
   "metadata": {
    "tags": []
   },
   "outputs": [],
   "source": [
    "# 전용면적, 지역명 별 평당분양가격 평균\n",
    "last_df.groupby(['전용면적','지역명'])['평당분양가격'].mean()"
   ]
  },
  {
   "cell_type": "code",
   "execution_count": null,
   "id": "c4729662-ec03-4fe8-bc1a-1fd44c1bf126",
   "metadata": {
    "tags": []
   },
   "outputs": [],
   "source": [
    "last_df.groupby(['지역명','전용면적'])['평당분양가격'].mean()"
   ]
  },
  {
   "cell_type": "code",
   "execution_count": null,
   "id": "2290ac3e-784f-4559-b033-82aedc7dcaa8",
   "metadata": {
    "tags": []
   },
   "outputs": [],
   "source": [
    "last_df.groupby(['지역명','전용면적'])['평당분양가격'].mean().unstack()"
   ]
  },
  {
   "cell_type": "code",
   "execution_count": null,
   "id": "2ebe3023-03cc-4a46-8abe-4a1aac31010f",
   "metadata": {},
   "outputs": [],
   "source": [
    "last_df.groupby(['전용면적','지역명'])['평당분양가격'].mean().unstack().round()"
   ]
  },
  {
   "cell_type": "code",
   "execution_count": null,
   "id": "8d85ea5b-8873-45b4-bf41-886992218674",
   "metadata": {},
   "outputs": [],
   "source": [
    "import matplotlib.pyplot as plt\n",
    "\n",
    "plt.rcParams['font.family'] = 'NanumSquare Neo Light'\n",
    "plt.rcParams['font.size'] = 10\n",
    "plt.rcParams['axes.unicode_minus'] = False"
   ]
  },
  {
   "cell_type": "code",
   "execution_count": null,
   "id": "656caec2-345e-438e-bf89-227a102d0d99",
   "metadata": {},
   "outputs": [],
   "source": [
    "g = last_df.groupby(['지역명'])['평당분양가격'].mean().to_frame()"
   ]
  },
  {
   "cell_type": "code",
   "execution_count": null,
   "id": "7cc246b7-3e93-4764-b620-5549536f82bc",
   "metadata": {
    "tags": []
   },
   "outputs": [],
   "source": [
    "g.plot()"
   ]
  },
  {
   "cell_type": "code",
   "execution_count": null,
   "id": "0d16ecfa-bb24-4827-9bdc-cb6b87730577",
   "metadata": {
    "tags": []
   },
   "outputs": [],
   "source": [
    "g.plot(kind='barh')"
   ]
  },
  {
   "cell_type": "code",
   "execution_count": null,
   "id": "fad63257-9427-4a87-a9c6-e88d6f6e9393",
   "metadata": {
    "tags": []
   },
   "outputs": [],
   "source": [
    "g.plot.barh()"
   ]
  },
  {
   "cell_type": "code",
   "execution_count": null,
   "id": "9ef8d6e8-a637-45e0-95d8-4ba0f95c1774",
   "metadata": {
    "tags": []
   },
   "outputs": [],
   "source": [
    "g.plot.bar(rot=0, figsize=(10,3))"
   ]
  },
  {
   "cell_type": "code",
   "execution_count": null,
   "id": "4af40d51-706c-4725-897d-b2ae55b6d499",
   "metadata": {},
   "outputs": [],
   "source": [
    "g = last_df.groupby(['지역명'])['평당분양가격'].mean().sort_values(ascending=False).to_frame()\n",
    "g"
   ]
  },
  {
   "cell_type": "code",
   "execution_count": null,
   "id": "32825082-afca-43ef-b38a-da0734fa39ca",
   "metadata": {
    "tags": []
   },
   "outputs": [],
   "source": [
    "g.plot.bar(rot=0, figsize=(10,3))"
   ]
  },
  {
   "cell_type": "code",
   "execution_count": null,
   "id": "440d5da8-a478-40c1-a7d3-fe9526b96ccc",
   "metadata": {
    "tags": []
   },
   "outputs": [],
   "source": [
    "# 연도별 평당분양가격\n",
    "\n",
    "g = last_df.groupby(['연도'])['평당분양가격'].mean().sort_values(ascending=False).to_frame()\n",
    "g.plot.barh(rot=0, figsize=(10,3))"
   ]
  },
  {
   "cell_type": "code",
   "execution_count": null,
   "id": "9b855762-b74a-4407-9efd-6e509a70cc1b",
   "metadata": {},
   "outputs": [],
   "source": [
    "g = last_df.pivot_table(columns='연도', values='평당분양가격')\n",
    "g"
   ]
  },
  {
   "cell_type": "code",
   "execution_count": null,
   "id": "646aa66d-0045-4b93-a2c3-ccef5ef615ef",
   "metadata": {},
   "outputs": [],
   "source": [
    "g.plot.box()"
   ]
  },
  {
   "cell_type": "code",
   "execution_count": null,
   "id": "21255cd4-19ab-4f1a-90d6-37c33550591a",
   "metadata": {},
   "outputs": [],
   "source": [
    "g = last_df.pivot_table(index='연도', values='평당분양가격')\n",
    "g['평당분양가격'].plot.pie(shadow=True, radius=0.8)"
   ]
  },
  {
   "cell_type": "code",
   "execution_count": null,
   "id": "a39a9a52-d891-40ae-a7af-c1d8dcb8c3aa",
   "metadata": {},
   "outputs": [],
   "source": [
    "import seaborn as sns"
   ]
  },
  {
   "cell_type": "code",
   "execution_count": null,
   "id": "f6c9f80a-860d-4628-bcb4-13d358cb9806",
   "metadata": {
    "tags": []
   },
   "outputs": [],
   "source": [
    "plt.figure(figsize=(10,3))\n",
    "sns.barplot(data=last_df,x='지역명',y='평당분양가격',ci='sd')"
   ]
  },
  {
   "cell_type": "code",
   "execution_count": null,
   "id": "37753c2b-6201-4e6f-a9ea-99229839b9f1",
   "metadata": {},
   "outputs": [],
   "source": [
    "sns.catplot(data=last_df, x='연도', y='평당분양가격', kind='violin', col='지역명',col_wrap=4)"
   ]
  },
  {
   "cell_type": "code",
   "execution_count": null,
   "id": "ffc4191f-a0c4-4c92-8cd0-df495c7fc408",
   "metadata": {},
   "outputs": [],
   "source": [
    "sns.relplot(data=last_df, x='연도', y='평당분양가격', col='지역명', col_wrap=2, hue='월', kind='line')"
   ]
  },
  {
   "cell_type": "code",
   "execution_count": null,
   "id": "076d96c5-2306-4fcb-929b-4006f7c79566",
   "metadata": {},
   "outputs": [],
   "source": [
    "plt.figure(figsize=(7,10))\n",
    "sns.lineplot(data=last_df, x='연도', y='평당분양가격', hue='지역명')\n",
    "plt.legend(bbox_to_anchor=(0,1), loc=2)"
   ]
  },
  {
   "cell_type": "code",
   "execution_count": null,
   "id": "2322e1c8-6d4c-41ab-9b93-1fb185a38c1d",
   "metadata": {
    "tags": []
   },
   "outputs": [],
   "source": [
    "first_df.head(2)"
   ]
  },
  {
   "cell_type": "code",
   "execution_count": null,
   "id": "52872401-2a03-4257-ae57-0ba465d1d1f4",
   "metadata": {},
   "outputs": [],
   "source": [
    "pd.options.display.max_columns = 25\n",
    "pd.options.display.max_rows = 20"
   ]
  },
  {
   "cell_type": "code",
   "execution_count": null,
   "id": "486a4f1b-2bf4-4936-9341-4f60a7697438",
   "metadata": {},
   "outputs": [],
   "source": [
    "last_df"
   ]
  },
  {
   "cell_type": "code",
   "execution_count": null,
   "id": "13fa844b-0a07-49cf-a7fb-ee489c5b1055",
   "metadata": {},
   "outputs": [],
   "source": [
    "# melt를 이용하여 월별데이터를 '기간' 컬럼으로 가격은 '평당분양가격'으로 처리하여 first_df_melt로 저장\n",
    "first_df_melt = first_df.melt(id_vars='지역', var_name='기간', value_name='평당분양가격')\n",
    "first_df_melt.head(5)"
   ]
  },
  {
   "cell_type": "code",
   "execution_count": null,
   "id": "195ef0f0-58a4-4167-a146-b1c17f7f0b3e",
   "metadata": {},
   "outputs": [],
   "source": [
    "# 기간 컬럼의 값을 '년', '월'로 분리\n",
    "first_df_melt['연도'] = first_df_melt['기간'].str.split('년').str.get(0).astype(int)"
   ]
  },
  {
   "cell_type": "code",
   "execution_count": null,
   "id": "abf6ad81-d8e5-4bf3-bcf4-b7e5eb3660fe",
   "metadata": {},
   "outputs": [],
   "source": [
    "first_df_melt['월'] = first_df_melt['기간'].str.split('년').str.get(1).str.replace('월','').astype(int)"
   ]
  },
  {
   "cell_type": "code",
   "execution_count": null,
   "id": "73de698d-ff4d-44d5-970b-4a7988f77405",
   "metadata": {},
   "outputs": [],
   "source": [
    "# last_df 전용면적에서 전체만 가지고 last_df_prepare 로 저장\n",
    "last_df_prepare = last_df[last_df['전용면적']=='전체'].copy()"
   ]
  },
  {
   "cell_type": "code",
   "execution_count": null,
   "id": "a2e60b8d-f7ee-467d-8d83-0eb400257de4",
   "metadata": {
    "tags": []
   },
   "outputs": [],
   "source": [
    "last_df_prepare.rename(columns={\"지역명\" : \"지역\"}, inplace=True)"
   ]
  },
  {
   "cell_type": "code",
   "execution_count": 194,
   "id": "7ca91d29-8ec3-4361-9409-da30439c396d",
   "metadata": {},
   "outputs": [],
   "source": [
    "# concat으로 데이터 합치기\n",
    "\n",
    "first = first_df_melt[['지역','연도','월','평당분양가격']]\n",
    "last = last_df_prepare[['지역','연도','월','평당분양가격']]\n",
    "df = pd.concat([first,last])"
   ]
  },
  {
   "cell_type": "code",
   "execution_count": 195,
   "id": "f21f594e-8df0-443c-888f-a36bd016ca4f",
   "metadata": {},
   "outputs": [],
   "source": [
    "df.reset_index(drop=True, inplace=True)"
   ]
  },
  {
   "cell_type": "code",
   "execution_count": null,
   "id": "8e383a4f-44c1-41dd-92fe-4fabd86ddb92",
   "metadata": {},
   "outputs": [],
   "source": [
    "df"
   ]
  },
  {
   "cell_type": "code",
   "execution_count": 200,
   "id": "9e2a9e4e-ee42-4ef7-84e2-dadc89777305",
   "metadata": {
    "collapsed": true,
    "jupyter": {
     "outputs_hidden": true
    },
    "tags": []
   },
   "outputs": [
    {
     "data": {
      "text/html": [
       "<div>\n",
       "<style scoped>\n",
       "    .dataframe tbody tr th:only-of-type {\n",
       "        vertical-align: middle;\n",
       "    }\n",
       "\n",
       "    .dataframe tbody tr th {\n",
       "        vertical-align: top;\n",
       "    }\n",
       "\n",
       "    .dataframe thead th {\n",
       "        text-align: right;\n",
       "    }\n",
       "</style>\n",
       "<table border=\"1\" class=\"dataframe\">\n",
       "  <thead>\n",
       "    <tr style=\"text-align: right;\">\n",
       "      <th></th>\n",
       "      <th></th>\n",
       "      <th></th>\n",
       "      <th>평당분양가격</th>\n",
       "    </tr>\n",
       "    <tr>\n",
       "      <th>연도</th>\n",
       "      <th>월</th>\n",
       "      <th>지역</th>\n",
       "      <th></th>\n",
       "    </tr>\n",
       "  </thead>\n",
       "  <tbody>\n",
       "    <tr>\n",
       "      <th rowspan=\"5\" valign=\"top\">2013</th>\n",
       "      <th rowspan=\"5\" valign=\"top\">12</th>\n",
       "      <th>강원</th>\n",
       "      <td>1</td>\n",
       "    </tr>\n",
       "    <tr>\n",
       "      <th>경기</th>\n",
       "      <td>1</td>\n",
       "    </tr>\n",
       "    <tr>\n",
       "      <th>경남</th>\n",
       "      <td>1</td>\n",
       "    </tr>\n",
       "    <tr>\n",
       "      <th>경북</th>\n",
       "      <td>1</td>\n",
       "    </tr>\n",
       "    <tr>\n",
       "      <th>광주</th>\n",
       "      <td>1</td>\n",
       "    </tr>\n",
       "    <tr>\n",
       "      <th>...</th>\n",
       "      <th>...</th>\n",
       "      <th>...</th>\n",
       "      <td>...</td>\n",
       "    </tr>\n",
       "    <tr>\n",
       "      <th rowspan=\"5\" valign=\"top\">2019</th>\n",
       "      <th rowspan=\"5\" valign=\"top\">12</th>\n",
       "      <th>전남</th>\n",
       "      <td>1</td>\n",
       "    </tr>\n",
       "    <tr>\n",
       "      <th>전북</th>\n",
       "      <td>1</td>\n",
       "    </tr>\n",
       "    <tr>\n",
       "      <th>제주</th>\n",
       "      <td>1</td>\n",
       "    </tr>\n",
       "    <tr>\n",
       "      <th>충남</th>\n",
       "      <td>1</td>\n",
       "    </tr>\n",
       "    <tr>\n",
       "      <th>충북</th>\n",
       "      <td>1</td>\n",
       "    </tr>\n",
       "  </tbody>\n",
       "</table>\n",
       "<p>1224 rows × 1 columns</p>\n",
       "</div>"
      ],
      "text/plain": [
       "            평당분양가격\n",
       "연도   월  지역        \n",
       "2013 12 강원       1\n",
       "        경기       1\n",
       "        경남       1\n",
       "        경북       1\n",
       "        광주       1\n",
       "...            ...\n",
       "2019 12 전남       1\n",
       "        전북       1\n",
       "        제주       1\n",
       "        충남       1\n",
       "        충북       1\n",
       "\n",
       "[1224 rows x 1 columns]"
      ]
     },
     "execution_count": 200,
     "metadata": {},
     "output_type": "execute_result"
    }
   ],
   "source": [
    "df.groupby(['연도','월','지역']).count()"
   ]
  },
  {
   "cell_type": "code",
   "execution_count": null,
   "id": "acd0d71e-a484-4d1f-a8c3-65c4cd09f7c1",
   "metadata": {},
   "outputs": [],
   "source": []
  }
 ],
 "metadata": {
  "kernelspec": {
   "display_name": "Python 3 (ipykernel)",
   "language": "python",
   "name": "python3"
  },
  "language_info": {
   "codemirror_mode": {
    "name": "ipython",
    "version": 3
   },
   "file_extension": ".py",
   "mimetype": "text/x-python",
   "name": "python",
   "nbconvert_exporter": "python",
   "pygments_lexer": "ipython3",
   "version": "3.9.13"
  }
 },
 "nbformat": 4,
 "nbformat_minor": 5
}
